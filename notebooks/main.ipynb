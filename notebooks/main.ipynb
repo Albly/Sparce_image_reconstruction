{
 "cells": [
  {
   "cell_type": "markdown",
   "metadata": {},
   "source": [
    "[![Open In Colab](https://colab.research.google.com/assets/colab-badge.svg)](https://colab.research.google.com/github/Albly/Sparce_image_reconstruction/blob/master/notebooks/main.ipynb)"
   ]
  },
  {
   "cell_type": "code",
   "execution_count": 4,
   "metadata": {},
   "outputs": [
    {
     "name": "stdout",
     "output_type": "stream",
     "text": [
      "Running on local machine\n"
     ]
    }
   ],
   "source": [
    "from IPython import get_ipython\n",
    "import os \n",
    "import sys\n",
    "from pathlib import Path\n",
    "\n",
    "%load_ext autoreload\n",
    "%autoreload 2\n",
    "\n",
    "# check if we use colab or local machine\n",
    "if 'google.colab' in str(get_ipython()):\n",
    "    IS_COLAB = True\n",
    "    print('Running on colab')\n",
    "else:\n",
    "    IS_COLAB = False\n",
    "    print('Running on local machine')\n",
    "\n",
    "if IS_COLAB:\n",
    "    git_root = !git rev-parse --show-toplevel\n",
    "    already_in_repo = os.path.exists(git_root[0])\n",
    "\n",
    "    if not already_in_repo:\n",
    "        !git clone https://github.com/Albly/Sparce_image_reconstruction $repo_dir\n",
    "\n",
    "    sys.path.append('Sparce_image_reconstruction')\n",
    "\n",
    "else:\n",
    "    os.chdir(Path().absolute().parent)"
   ]
  },
  {
   "cell_type": "code",
   "execution_count": 19,
   "metadata": {},
   "outputs": [],
   "source": [
    "from metrics import *\n",
    "from utils import *\n",
    "from recoverers.activations import *\n",
    "from recoverers.classical import *"
   ]
  }
 ],
 "metadata": {
  "interpreter": {
   "hash": "d9a8acb4f733d3596df9f6fac9daff15e014d11794ebc65488d1c191c94698fd"
  },
  "kernelspec": {
   "display_name": "Python 3",
   "language": "python",
   "name": "python3"
  },
  "language_info": {
   "codemirror_mode": {
    "name": "ipython",
    "version": 3
   },
   "file_extension": ".py",
   "mimetype": "text/x-python",
   "name": "python",
   "nbconvert_exporter": "python",
   "pygments_lexer": "ipython3",
   "version": "3.8.5"
  }
 },
 "nbformat": 4,
 "nbformat_minor": 4
}
